{
  "nbformat": 4,
  "nbformat_minor": 0,
  "metadata": {
    "colab": {
      "provenance": [],
      "collapsed_sections": [],
      "toc_visible": true,
      "authorship_tag": "ABX9TyPOiIP8rMjVVf1odt/Vk21q",
      "include_colab_link": true
    },
    "kernelspec": {
      "name": "python3",
      "display_name": "Python 3"
    },
    "language_info": {
      "name": "python"
    }
  },
  "cells": [
    {
      "cell_type": "markdown",
      "metadata": {
        "id": "view-in-github",
        "colab_type": "text"
      },
      "source": [
        "<a href=\"https://colab.research.google.com/github/allanzim/treinamento/blob/main/Day_1_DS06_39214_Allan_Furukawa_Gadani.ipynb\" target=\"_parent\"><img src=\"https://colab.research.google.com/assets/colab-badge.svg\" alt=\"Open In Colab\"/></a>"
      ]
    },
    {
      "cell_type": "markdown",
      "source": [
        "# Allan Furukawa Gadani - RID #39214"
      ],
      "metadata": {
        "id": "MDDjtqVSjIaT"
      }
    },
    {
      "cell_type": "markdown",
      "source": [
        "# Exercício 1"
      ],
      "metadata": {
        "id": "Z9keho33klWf"
      }
    },
    {
      "cell_type": "code",
      "source": [
        "# 1. \n",
        "\n",
        "x = 5\n",
        "type(x)\n"
      ],
      "metadata": {
        "colab": {
          "base_uri": "https://localhost:8080/"
        },
        "id": "zYOR68ZJjLR4",
        "outputId": "2ac286d9-5a95-431d-da6e-4674917ad311"
      },
      "execution_count": null,
      "outputs": [
        {
          "output_type": "execute_result",
          "data": {
            "text/plain": [
              "int"
            ]
          },
          "metadata": {},
          "execution_count": 2
        }
      ]
    },
    {
      "cell_type": "code",
      "source": [
        "# 2.\n",
        "x = 5.0\n",
        "type(x)\n"
      ],
      "metadata": {
        "colab": {
          "base_uri": "https://localhost:8080/"
        },
        "id": "Uia8dlNfjlP4",
        "outputId": "cb6ce3be-887d-4230-e8a6-76368c67150d"
      },
      "execution_count": null,
      "outputs": [
        {
          "output_type": "execute_result",
          "data": {
            "text/plain": [
              "float"
            ]
          },
          "metadata": {},
          "execution_count": 3
        }
      ]
    },
    {
      "cell_type": "code",
      "source": [
        "# 3.\n",
        "x = 5.5\n",
        "type(x)\n"
      ],
      "metadata": {
        "colab": {
          "base_uri": "https://localhost:8080/"
        },
        "id": "F3dnuioqj7EP",
        "outputId": "39b59b40-4d9d-4744-ea5b-b0613973faf2"
      },
      "execution_count": null,
      "outputs": [
        {
          "output_type": "execute_result",
          "data": {
            "text/plain": [
              "float"
            ]
          },
          "metadata": {},
          "execution_count": 4
        }
      ]
    },
    {
      "cell_type": "code",
      "source": [
        "# 4.\n",
        "x = 'DNC'\n",
        "type(x)\n"
      ],
      "metadata": {
        "colab": {
          "base_uri": "https://localhost:8080/"
        },
        "id": "lC1P-hSaj91p",
        "outputId": "d5eaff68-b4f2-46d0-e85a-2c22ef5b09b4"
      },
      "execution_count": null,
      "outputs": [
        {
          "output_type": "execute_result",
          "data": {
            "text/plain": [
              "str"
            ]
          },
          "metadata": {},
          "execution_count": 5
        }
      ]
    },
    {
      "cell_type": "code",
      "source": [
        "# 5.\n",
        "x = 1/2\n",
        "type(x)\n"
      ],
      "metadata": {
        "colab": {
          "base_uri": "https://localhost:8080/"
        },
        "id": "Dav5PXnBkB8B",
        "outputId": "bf7d2f13-ddf8-4d87-bc38-de55119e362f"
      },
      "execution_count": null,
      "outputs": [
        {
          "output_type": "execute_result",
          "data": {
            "text/plain": [
              "float"
            ]
          },
          "metadata": {},
          "execution_count": 6
        }
      ]
    },
    {
      "cell_type": "code",
      "source": [
        "# 6.\n",
        "x = 0.5 * 2\n",
        "type(x)\n"
      ],
      "metadata": {
        "colab": {
          "base_uri": "https://localhost:8080/"
        },
        "id": "4ag1rerRkXZm",
        "outputId": "027b32f8-8824-4f9e-9855-aa105c5834c9"
      },
      "execution_count": null,
      "outputs": [
        {
          "output_type": "execute_result",
          "data": {
            "text/plain": [
              "float"
            ]
          },
          "metadata": {},
          "execution_count": 7
        }
      ]
    },
    {
      "cell_type": "code",
      "source": [
        "# 7.\n",
        "x = 2 ** 4\n",
        "type(x)\n"
      ],
      "metadata": {
        "colab": {
          "base_uri": "https://localhost:8080/"
        },
        "id": "ZKlig0npkY9d",
        "outputId": "c72b67bd-ec38-491a-cd21-9c6b6ab9f819"
      },
      "execution_count": null,
      "outputs": [
        {
          "output_type": "execute_result",
          "data": {
            "text/plain": [
              "int"
            ]
          },
          "metadata": {},
          "execution_count": 8
        }
      ]
    },
    {
      "cell_type": "code",
      "source": [
        "# 8.\n",
        "x = 2+4\n",
        "type(x)\n"
      ],
      "metadata": {
        "colab": {
          "base_uri": "https://localhost:8080/"
        },
        "id": "zYl2pBp0kauv",
        "outputId": "9a120be4-05d6-4812-9cb5-e39bc1249ae5"
      },
      "execution_count": null,
      "outputs": [
        {
          "output_type": "execute_result",
          "data": {
            "text/plain": [
              "int"
            ]
          },
          "metadata": {},
          "execution_count": 9
        }
      ]
    },
    {
      "cell_type": "code",
      "source": [
        "# 9.\n",
        "x = 1000000000\n",
        "type(x)\n"
      ],
      "metadata": {
        "colab": {
          "base_uri": "https://localhost:8080/"
        },
        "id": "k_r5yg-0kca_",
        "outputId": "3a8060ff-5a2e-4d9c-9693-3004d6958599"
      },
      "execution_count": null,
      "outputs": [
        {
          "output_type": "execute_result",
          "data": {
            "text/plain": [
              "int"
            ]
          },
          "metadata": {},
          "execution_count": 10
        }
      ]
    },
    {
      "cell_type": "code",
      "source": [
        "# 10. Peça para o usuário inputar um dado inteiro e confira o tipo dele\n",
        "\n",
        "\n",
        "entrada = int(input('Entre com o valor inteiro: '))\n",
        "print(type(entrada))\n"
      ],
      "metadata": {
        "colab": {
          "base_uri": "https://localhost:8080/"
        },
        "id": "XeijVv8_keDg",
        "outputId": "5d2db0ce-883a-434a-c296-44dc087d2412"
      },
      "execution_count": null,
      "outputs": [
        {
          "output_type": "stream",
          "name": "stdout",
          "text": [
            "Entre com o valor inteiro: 123\n",
            "<class 'int'>\n"
          ]
        }
      ]
    },
    {
      "cell_type": "code",
      "source": [
        "# 11. Peça para o usuário inputar um dado float e confira o tipo dele\n",
        "\n",
        "entrada = float(input('Entre com o valor float: '))\n",
        "print(type(entrada))\n",
        "\n"
      ],
      "metadata": {
        "colab": {
          "base_uri": "https://localhost:8080/"
        },
        "id": "vlAY6WPnkfRN",
        "outputId": "f916cd74-6c09-4222-e7f9-9c72a9efa229"
      },
      "execution_count": null,
      "outputs": [
        {
          "output_type": "stream",
          "name": "stdout",
          "text": [
            "Entre com o valor float: 14.5\n",
            "<class 'float'>\n"
          ]
        }
      ]
    },
    {
      "cell_type": "code",
      "source": [
        "# 12. Peça para o usuário inputar um dado string e confira o tipo dele\n",
        "\n",
        "entrada = str(input('Entre com a string: '))\n",
        "\n",
        "print(type(entrada))\n",
        "\n"
      ],
      "metadata": {
        "colab": {
          "base_uri": "https://localhost:8080/"
        },
        "id": "lPAND42KkgL8",
        "outputId": "3867b8d2-f308-4f4e-ef96-149c7cae23cf"
      },
      "execution_count": null,
      "outputs": [
        {
          "output_type": "stream",
          "name": "stdout",
          "text": [
            "Entre com a string: adjasdkjasd\n",
            "<class 'str'>\n"
          ]
        }
      ]
    },
    {
      "cell_type": "code",
      "source": [
        "# 13. Peça para o usuário inputar um dado sem definir o tipo e confira o tipo dele\n",
        "\n",
        "entrada = input('Entre com o valor: ')\n",
        "\n",
        "if(entrada.isnumeric() == True):\n",
        "  print('É um número!')\n",
        "elif(entrada.isalpha() == True):\n",
        "  print('É string')\n",
        "elif(entrada.isalnum() == True):\n",
        "  print('É um mix de número e letra')"
      ],
      "metadata": {
        "colab": {
          "base_uri": "https://localhost:8080/"
        },
        "id": "ehSkk_cJkg8l",
        "outputId": "1a6b4191-c7eb-48f2-a876-f514598235df"
      },
      "execution_count": null,
      "outputs": [
        {
          "output_type": "stream",
          "name": "stdout",
          "text": [
            "Entre com o valor: jadjahsd8127812\n",
            "É um mix de número e letra\n"
          ]
        }
      ]
    },
    {
      "cell_type": "markdown",
      "source": [
        "# Exercício 2"
      ],
      "metadata": {
        "id": "1OVPkP8onS6U"
      }
    },
    {
      "cell_type": "code",
      "source": [
        "# Faça um print com duas linhas tracejadas acima e duas abaixo com  50 linhas em cada uma delas e no meio coloque \"DS06 - DNC\"\n",
        "\n",
        "print('{:-^50}'.format(''))\n",
        "print('{:-^50}'.format(' DS06 - DNC '))\n",
        "print('{:-^50}'.format(''))\n"
      ],
      "metadata": {
        "colab": {
          "base_uri": "https://localhost:8080/"
        },
        "id": "klLd3nG5nVJh",
        "outputId": "04cb0cde-9e3f-4898-9ca0-426d933e44be"
      },
      "execution_count": null,
      "outputs": [
        {
          "output_type": "stream",
          "name": "stdout",
          "text": [
            "--------------------------------------------------\n",
            "------------------- DS06 - DNC -------------------\n",
            "--------------------------------------------------\n"
          ]
        }
      ]
    },
    {
      "cell_type": "markdown",
      "source": [
        "# Exercício 3"
      ],
      "metadata": {
        "id": "qiDRrnDGnyyb"
      }
    },
    {
      "cell_type": "code",
      "source": [
        "# Você acabou de se formar na turma 05 de Formação em \n",
        "# dados  e conseguiu um emprego de um cientista de dados jr. com um \n",
        "# salário de  R$10.000,00 mensais. Você quer calcular quanto conseguirá \n",
        "# guardar na  poupança ao final do mês depois que pagar suas contas. \n",
        "# Considere os  dados abaixo para fazer um print igual ao que está em \n",
        "# anexo.\n",
        "\n",
        "salario_cientista_de_dados = 10000.00\n",
        "parcela_bmw = 2500.45\n",
        "parcela_apartamento = 3500.50\n",
        "veterinario_romeuzinho = 500.00\n",
        "luz = 100.80\n",
        "agua = 80.35\n",
        "condominio = 800.44\n",
        "gas = 150.65\n",
        "\n",
        "print('*'*100)\n",
        "print('Seu Salário é de cientista de dados Jr é de R$ 10.0000,00 e seus gastos estão dispostos a seguir: ')\n",
        "print(f'Parcela da BMW: {parcela_bmw}')\n",
        "print(f'Parcela do apartamento: {parcela_apartamento}')\n",
        "print(f'Veterinário do romeuzinho: {veterinario_romeuzinho}')\n",
        "print(f'Conta de Luz: {luz}')\n",
        "print(f'Conta de Água: {agua}')\n",
        "print(f'Conta de Condomínio: {condominio}')\n",
        "print(f'Conta de gás: {gas}')\n",
        "print('*'*100)\n",
        "\n",
        "print(f'Valor disponível para colocar na poupança: R$ {salario_cientista_de_dados-parcela_bmw-parcela_apartamento-veterinario_romeuzinho-luz-agua-condominio-gas}')"
      ],
      "metadata": {
        "colab": {
          "base_uri": "https://localhost:8080/"
        },
        "id": "12PkTCLWn0pO",
        "outputId": "81684be5-ab7b-456f-91de-efa3cfbf4da9"
      },
      "execution_count": null,
      "outputs": [
        {
          "output_type": "stream",
          "name": "stdout",
          "text": [
            "****************************************************************************************************\n",
            "Seu Salário é de cientista de dados Jr é de R$ 10.0000,00 e seus gastos estão dispostos a seguir: \n",
            "Parcela da BMW: 2500.45\n",
            "Parcela do apartamento: 3500.5\n",
            "Veterinário do romeuzinho: 500.0\n",
            "Conta de Luz: 100.8\n",
            "Conta de Água: 80.35\n",
            "Conta de Condomínio: 800.44\n",
            "Conta de gás: 150.65\n",
            "****************************************************************************************************\n",
            "Valor disponível para colocar na poupança: R$ 2366.81\n"
          ]
        }
      ]
    },
    {
      "cell_type": "markdown",
      "source": [
        "# Exercício 4"
      ],
      "metadata": {
        "id": "6thzLrbRpkVy"
      }
    },
    {
      "cell_type": "code",
      "source": [
        "# Você é um vendedor de cursos na DNC e os clientes entram em contato \n",
        "# com  você para adquirir um de nossos seguintes cursos (Com os respectivos valores) e \n",
        "# o  cliente pode escolher apenas 1,\n",
        "# 1.Formação_em_dados = 20000.00\n",
        "# 2.Formação_em_projetos = 15000.00\n",
        "# 3.Formação_em_marketing = 13000.00\n",
        "# 4. Formação_em_produto = 18000.00\n",
        "# 5.Formação_em_tecnologia = 19000.00\n",
        "# Monte um código onde a primeira pergunta será \"Qual curso você quer escolher \n",
        "# (1 =  Formação_em_dados, 2 = Formação_em_projetos, 3 = \n",
        "# Formação_em_marketing, 4=  Formação_em_produto, 5 = \n",
        "# Formação_em_tecnologia)?\"\n",
        "# E de acordo com a escolha, ele entre em um if e emita a seguinte mensagem \n",
        "# padrão  \"Você escolheu o curso Formação em XXXXX no valor de R$ valor que \n",
        "# começará no  próximo mês\".\n",
        "# Caso o usuário digite um valor diferente dos dispostos, emita a seguinte \n",
        "# mensagem  \"Digite um valor correspondente a um curso de nossas formações \\\n",
        "# n1-Formação em  dados \\n2-Formação em projetos\\n3-Formação em marketing\\n4-\n",
        "# Formação em  produto\\n5-Formação em tecnologia\n",
        "\n",
        "condicional = True\n",
        "lista_cursos = ['Formação em Dados','Formação em Projetos',  'Formação em Marketing',  'Formação em Produtos', 'Formação em Tecnologia']\n",
        "custos =  [20000.00, 15000.00,13000.00,18000.00 , 19000]\n",
        "while condicional:\n",
        "  curso = input('Qual curso você quer escolher (1 =  Formação_em_dados, 2 = Formação_em_projetos, 3 = Formação_em_marketing, 4=  Formação_em_produto, 5 = Formação_em_tecnologia)? ')\n",
        "\n",
        "  if(int(curso) == 1 or int(curso) == 2 or int(curso) == 3 or int(curso) == 4 or int(curso) == 5):\n",
        "    print(f'\\nVocê escolheu o curso {lista_cursos[int(curso)-1]} no valor de R$ {custos[int(curso)-1]} que começará no  próximo mês')\n",
        "    condicional = False\n",
        "  else:\n",
        "    print('Digite um valor correspondente a um curso de nossas formações \\n1-Formação em  dados \\n2-Formação em projetos\\n3-Formação em marketing\\n4-Formação em  produto\\n5-Formação em tecnologia\\n')\n",
        "\n"
      ],
      "metadata": {
        "colab": {
          "base_uri": "https://localhost:8080/"
        },
        "id": "y7f_t254pmgd",
        "outputId": "9e681394-9486-4c7d-9b6a-7b283d4580b9"
      },
      "execution_count": null,
      "outputs": [
        {
          "output_type": "stream",
          "name": "stdout",
          "text": [
            "Qual curso você quer escolher (1 =  Formação_em_dados, 2 = Formação_em_projetos, 3 = Formação_em_marketing, 4=  Formação_em_produto, 5 = Formação_em_tecnologia)? 5\n",
            "Você escolheu o curso Formação em Tecnologia no valor de R$ 19000 que começará no  próximo mês\n"
          ]
        }
      ]
    },
    {
      "cell_type": "markdown",
      "source": [
        "# Exercício 5"
      ],
      "metadata": {
        "id": "DJpF-jlGxTVp"
      }
    },
    {
      "cell_type": "code",
      "source": [
        "# A DNC pretende faturar 2 milhões em 1 mês. Faça a leitura \n",
        "# da quantidade de vendas de cada formação e calcule a receita total de \n",
        "# vendas, a receita media geral e verifique se eles bateram a meta \n",
        "# mensal utilizando as seguintes mensagens\n",
        "# Se bateram: \"Parabéns!!! A DNC bateu a meta do mês\"\n",
        "# Se não bateram: \"Esse mês não batemos a meta, porém mês que vem \n",
        "# vamos vir mais forte pra recuperar!!!\"\n",
        "\n",
        "dados_cursos = [{'curso': 'Formação em Dados', 'valor' : 20000, 'quantidade' : 12}, \n",
        "          {'curso': 'Formação em Projetos', 'valor' : 15000, 'quantidade' : 4}, \n",
        "          {'curso': 'Formação em Marketing', 'valor' : 13000, 'quantidade' : 5}, \n",
        "          {'curso': 'Formação em Produtos', 'valor' : 18000, 'quantidade' : 17}, \n",
        "          {'curso': 'Formação em Tecnologia', 'valor' : 19000, 'quantidade' : 31}, \n",
        "          ]\n",
        "\n",
        "soma = 0\n",
        "\n",
        "for i in range(0,5):\n",
        "  soma+=(dados_cursos[i]['valor']*dados_cursos[i]['quantidade'])\n",
        "\n",
        "if(soma >= 2000000):\n",
        "  print('Parabéns!!! A DNC bateu a meta do mês')\n",
        "else:\n",
        "  print('Esse mês não batemos a meta, porém mês que vem vamos vir mais forte pra recuperar!!!')\n",
        "  \n",
        "print(f'R$ {soma}')"
      ],
      "metadata": {
        "colab": {
          "base_uri": "https://localhost:8080/"
        },
        "id": "yz5f0Mmnuk3n",
        "outputId": "9cc73b18-b943-4f5c-ffb2-a04c4b7a0924"
      },
      "execution_count": null,
      "outputs": [
        {
          "output_type": "stream",
          "name": "stdout",
          "text": [
            "Esse mês não batemos a meta, porém mês que vem vamos vir mais forte pra recuperar!!!\n",
            "R$ 1260000\n"
          ]
        }
      ]
    },
    {
      "cell_type": "markdown",
      "source": [
        "# Exercício 6"
      ],
      "metadata": {
        "id": "BNyuzzHvxWBk"
      }
    },
    {
      "cell_type": "code",
      "source": [
        "# O aluno da DNC precisa fazer um código que faça a somatória de uma  \n",
        "# sequência de números um por um, informando no começo do código qual a posição \n",
        "# a somatória  deve parar. Monte uma estrutura de repetição que resolva esse \n",
        "# problema.\n",
        "# Exemplo: Ele vai parar no numero 3, então vai somar 1+2+3\n",
        "\n",
        "stop = int(input('Entre com o valor limite: '))\n",
        "soma = 0\n",
        "\n",
        "for i in range(0,stop+1):\n",
        "  soma+=i\n",
        "\n",
        "print(soma)"
      ],
      "metadata": {
        "colab": {
          "base_uri": "https://localhost:8080/"
        },
        "id": "UvTvS_fJxa75",
        "outputId": "21653127-1ac6-43cb-b582-30a061bfeed1"
      },
      "execution_count": null,
      "outputs": [
        {
          "output_type": "stream",
          "name": "stdout",
          "text": [
            "Entre com o valor limite: 10\n",
            "55\n"
          ]
        }
      ]
    },
    {
      "cell_type": "markdown",
      "source": [
        "# Exercício 7"
      ],
      "metadata": {
        "id": "8yLJW3nFyCON"
      }
    },
    {
      "cell_type": "code",
      "source": [
        "# Questão 7. O aluno da DNC está no spotify e percebeu que poderia criar um \n",
        "# código  para demonstrar como o spotify troca de música. Faça uma estrutura de \n",
        "# repetição que  quando digita-se 'p' o código emitirá uma mensagem \"Próxima \n",
        "# música\" e qualquer  outra letra ou número o código emitirá uma mensagem \n",
        "# \"Fechando o app\" \"Até a  próxima\n",
        "\n",
        "\n",
        "check = 'p'\n",
        "\n",
        "while check == 'p':\n",
        "  check = input('')\n",
        "  if check == 'p':\n",
        "    print('Próxima Música')\n",
        "  else:\n",
        "    print('Fechando app')"
      ],
      "metadata": {
        "colab": {
          "base_uri": "https://localhost:8080/"
        },
        "id": "rhElAtSQyEPR",
        "outputId": "dbc920d0-4977-46a1-a690-790aa7a8ef6d"
      },
      "execution_count": null,
      "outputs": [
        {
          "output_type": "stream",
          "name": "stdout",
          "text": [
            "p\n",
            "Próxima Música\n",
            "p\n",
            "Próxima Música\n",
            "d\n",
            "Fechando app\n"
          ]
        }
      ]
    },
    {
      "cell_type": "markdown",
      "source": [
        "# Exercício 8"
      ],
      "metadata": {
        "id": "3Y3HvdEty2uN"
      }
    },
    {
      "cell_type": "code",
      "source": [
        "# O aluno da DNC quer criar um código para dar parabéns para 3 pessoas \n",
        "# do  seu grupo de projeto, como reconhecimento de seu trabalho duro. Faça uma \n",
        "# estrutura  de repetição onde seja informado 3 nomes e printado a seguinte \n",
        "# mensagem \"Parabéns  por toda sua ajuda no projeto, você está sendo essencial para \n",
        "# o resultado que estamos  atingindo, NOME DA PESSOA\n",
        "\n",
        "\n",
        "nomes = []\n",
        "\n",
        "for i in range(0,3):\n",
        "  nome = input('Entre com o nome: ')\n",
        "  nomes.append(nome)\n",
        "\n",
        "print('')\n",
        "for i in range(0,len(nomes)):\n",
        "  print(f'Parabéns {nomes[i]} por toda sua ajuda no projeto, você está sendo essencial para o resultado que estamos  atingindo\\n')"
      ],
      "metadata": {
        "colab": {
          "base_uri": "https://localhost:8080/"
        },
        "id": "xH7AzZ7py5FL",
        "outputId": "4390912c-f0b7-4cc3-ee78-7cfad36e867c"
      },
      "execution_count": null,
      "outputs": [
        {
          "output_type": "stream",
          "name": "stdout",
          "text": [
            "Entre com o nome: Allan\n",
            "Entre com o nome: Shrek\n",
            "Entre com o nome: Burro\n",
            "\n",
            "Parabéns Allan por toda sua ajuda no projeto, você está sendo essencial para o resultado que estamos  atingindo\n",
            "\n",
            "Parabéns Shrek por toda sua ajuda no projeto, você está sendo essencial para o resultado que estamos  atingindo\n",
            "\n",
            "Parabéns Burro por toda sua ajuda no projeto, você está sendo essencial para o resultado que estamos  atingindo\n",
            "\n"
          ]
        }
      ]
    },
    {
      "cell_type": "markdown",
      "source": [
        "# Exercício 9"
      ],
      "metadata": {
        "id": "vst8MwTdz2PF"
      }
    },
    {
      "cell_type": "code",
      "source": [
        "# Um aluno da DNC tem uma certa quantidade de notas em seu cofrinho \n",
        "# e  hoje ele decidiu quebrá-lo, com isso ele quer criar um programa que armazene \n",
        "# todas as  notas e ao final do processo ele quer saber o valor total e printar as notas \n",
        "# que ele  possui na tela. Monte uma estrutura onde seja guardado os valores das notas \n",
        "# e imprima  a soma delas ao final. Utilize a estrutura de repetição while\n",
        "\n",
        "notas = [{'valor': 2, 'quantidade': 0},\n",
        "         {'valor': 5, 'quantidade': 0},\n",
        "         {'valor': 10, 'quantidade': 0},\n",
        "         {'valor': 20, 'quantidade': 0},\n",
        "         {'valor': 50, 'quantidade': 0},\n",
        "         {'valor': 100, 'quantidade': 0}]\n",
        "total = 0\n",
        "valor_da_nota = -1\n",
        "while valor_da_nota != 0:\n",
        "  valor_da_nota = int(input('Entre com o valor da nota: '))\n",
        "  if valor_da_nota == 2:\n",
        "    notas[0]['quantidade']+=1\n",
        "  elif valor_da_nota == 5:\n",
        "    notas[1]['quantidade']+=1\n",
        "  elif valor_da_nota == 10:\n",
        "    notas[2]['quantidade']+=1\n",
        "  elif valor_da_nota == 20:\n",
        "    notas[3]['quantidade']+=1\n",
        "  elif valor_da_nota == 50:\n",
        "    notas[4]['quantidade']+=1\n",
        "  elif valor_da_nota == 100:\n",
        "    notas[5]['quantidade']+=1\n",
        "  \n",
        "for i in range(0,6):\n",
        "  total+=(notas[i]['valor']*notas[i]['quantidade'])\n",
        "\n",
        "print(f'Total: R$ {total}\\n')\n",
        "print(notas)"
      ],
      "metadata": {
        "colab": {
          "base_uri": "https://localhost:8080/"
        },
        "id": "qiTyBR-Yz4zR",
        "outputId": "52b92dba-ecb1-4208-d630-23b8267db54e"
      },
      "execution_count": null,
      "outputs": [
        {
          "output_type": "stream",
          "name": "stdout",
          "text": [
            "Entre com o valor da nota: 10\n",
            "Entre com o valor da nota: 100\n",
            "Entre com o valor da nota: 50\n",
            "Entre com o valor da nota: 5\n",
            "Entre com o valor da nota: 5\n",
            "Entre com o valor da nota: 2\n",
            "Entre com o valor da nota: 2\n",
            "Entre com o valor da nota: 5\n",
            "Entre com o valor da nota: 20\n",
            "Entre com o valor da nota: 0\n",
            "Total: R$ 199\n",
            "\n",
            "[{'valor': 2, 'quantidade': 2}, {'valor': 5, 'quantidade': 3}, {'valor': 10, 'quantidade': 1}, {'valor': 20, 'quantidade': 1}, {'valor': 50, 'quantidade': 1}, {'valor': 100, 'quantidade': 1}]\n"
          ]
        }
      ]
    },
    {
      "cell_type": "markdown",
      "source": [
        "# Exercício 10\n",
        "\n"
      ],
      "metadata": {
        "id": "utPufDvK3LKa"
      }
    },
    {
      "cell_type": "code",
      "source": [
        "# O aluno da DNC resolveu criar um dicionário com as informações dos \n",
        "# 5  membros de seu grupo, ele precisa inserir o Nome, RID, Idade, Cidade e Cargo no \n",
        "# time  de projeto. Crie um dicionário que satisfaça isso e print cada chave e valor de \n",
        "# cada  integrante\n",
        "\n",
        "membros = [{'nome': 'Membro 1', 'rid': 1, 'idade': 11, 'cidade': 'São Paulo', 'cargo': 'Projetista'},\n",
        "           {'nome': 'Membro 2', 'rid': 2, 'idade': 12, 'cidade': 'Fortaleza', 'cargo': 'Desenhista'},\n",
        "           {'nome': 'Membro 3', 'rid': 3, 'idade': 13, 'cidade': 'Porto Alegre', 'cargo': 'Taxista'},\n",
        "           {'nome': 'Membro 4', 'rid': 4, 'idade': 14, 'cidade': 'Cuiabá', 'cargo': 'Dentista'},\n",
        "           {'nome': 'Membro 5', 'rid': 5, 'idade': 15, 'cidade': 'Manaus', 'cargo': 'Cozinheiro'}]\n",
        "\n",
        "for i in membros:\n",
        "  for chave_valor in i.items():\n",
        "    chave, valor = chave_valor\n",
        "    print(f'{chave:7}: {valor:8}')\n",
        "  print('-'*30)"
      ],
      "metadata": {
        "colab": {
          "base_uri": "https://localhost:8080/"
        },
        "id": "W-HRDr233NsW",
        "outputId": "8dac335d-b9f1-4ce6-f89b-69e54cc402a3"
      },
      "execution_count": null,
      "outputs": [
        {
          "output_type": "stream",
          "name": "stdout",
          "text": [
            "nome   : Membro 1\n",
            "rid    :        1\n",
            "idade  :       11\n",
            "cidade : São Paulo\n",
            "cargo  : Projetista\n",
            "------------------------------\n",
            "nome   : Membro 2\n",
            "rid    :        2\n",
            "idade  :       12\n",
            "cidade : Fortaleza\n",
            "cargo  : Desenhista\n",
            "------------------------------\n",
            "nome   : Membro 3\n",
            "rid    :        3\n",
            "idade  :       13\n",
            "cidade : Porto Alegre\n",
            "cargo  : Taxista \n",
            "------------------------------\n",
            "nome   : Membro 4\n",
            "rid    :        4\n",
            "idade  :       14\n",
            "cidade : Cuiabá  \n",
            "cargo  : Dentista\n",
            "------------------------------\n",
            "nome   : Membro 5\n",
            "rid    :        5\n",
            "idade  :       15\n",
            "cidade : Manaus  \n",
            "cargo  : Cozinheiro\n",
            "------------------------------\n"
          ]
        }
      ]
    },
    {
      "cell_type": "markdown",
      "source": [
        "# Exercício 11"
      ],
      "metadata": {
        "id": "oUU0crFX5oxS"
      }
    },
    {
      "cell_type": "code",
      "source": [
        "# Crie uma função, em que sempre ao ser chamada faz a soma de \n",
        "# todas as  notas (dinheiro) que você inserir na função\n",
        "\n",
        "def somatoria_notas(*notas):\n",
        "  soma = 0\n",
        "  for i in notas:\n",
        "    soma+=i\n",
        "  return soma\n",
        "\n",
        "somatoria_notas(1,2,3,10)"
      ],
      "metadata": {
        "colab": {
          "base_uri": "https://localhost:8080/"
        },
        "id": "Gl4UdO8Q5scZ",
        "outputId": "57da92ed-1869-4a17-aa74-df14eca2a629"
      },
      "execution_count": null,
      "outputs": [
        {
          "output_type": "execute_result",
          "data": {
            "text/plain": [
              "16"
            ]
          },
          "metadata": {},
          "execution_count": 115
        }
      ]
    }
  ]
}